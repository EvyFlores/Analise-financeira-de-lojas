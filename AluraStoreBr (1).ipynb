{
  "nbformat": 4,
  "nbformat_minor": 0,
  "metadata": {
    "colab": {
      "provenance": []
    },
    "kernelspec": {
      "name": "python3",
      "display_name": "Python 3"
    },
    "language_info": {
      "name": "python"
    }
  },
  "cells": [
    {
      "cell_type": "markdown",
      "source": [
        "### Importação dos dados\n",
        "\n"
      ],
      "metadata": {
        "id": "RhEdWd9YUR6H"
      }
    },
    {
      "cell_type": "code",
      "execution_count": null,
      "metadata": {
        "colab": {
          "base_uri": "https://localhost:8080/"
        },
        "id": "T3EvaeQ_INIL",
        "outputId": "e3ef6000-d145-4526-d715-318c413320c1"
      },
      "outputs": [
        {
          "output_type": "execute_result",
          "data": {
            "text/plain": [
              "                 Produto Categoria do Produto    Preço      Frete  \\\n",
              "0     Assistente virtual          eletronicos   219.08   9.249790   \n",
              "1         Mesa de jantar               moveis   256.35  11.234305   \n",
              "2      Jogo de tabuleiro           brinquedos   279.51  21.262681   \n",
              "3            Micro-ondas     eletrodomesticos  1009.99  54.667344   \n",
              "4  Cadeira de escritório               moveis   446.99  26.964689   \n",
              "\n",
              "  Data da Compra        Vendedor Local da compra  Avaliação da compra  \\\n",
              "0     16/01/2021     Pedro Gomes              SP                    4   \n",
              "1     18/05/2022  Beatriz Moraes              RJ                    1   \n",
              "2     15/03/2021      João Souza              DF                    1   \n",
              "3     03/05/2022      João Souza              RS                    4   \n",
              "4     07/11/2020   Larissa Alves              MG                    5   \n",
              "\n",
              "  Tipo de pagamento  Quantidade de parcelas    lat    lon  \n",
              "0    cartao_credito                       8 -22.19 -48.79  \n",
              "1    cartao_credito                       4 -22.25 -42.66  \n",
              "2    cartao_credito                       1 -15.83 -47.86  \n",
              "3            boleto                       1 -30.17 -53.50  \n",
              "4            boleto                       1 -18.10 -44.38  "
            ],
            "text/html": [
              "\n",
              "  <div id=\"df-85fc6e60-7c45-4f09-84d8-86f6a6709e17\" class=\"colab-df-container\">\n",
              "    <div>\n",
              "<style scoped>\n",
              "    .dataframe tbody tr th:only-of-type {\n",
              "        vertical-align: middle;\n",
              "    }\n",
              "\n",
              "    .dataframe tbody tr th {\n",
              "        vertical-align: top;\n",
              "    }\n",
              "\n",
              "    .dataframe thead th {\n",
              "        text-align: right;\n",
              "    }\n",
              "</style>\n",
              "<table border=\"1\" class=\"dataframe\">\n",
              "  <thead>\n",
              "    <tr style=\"text-align: right;\">\n",
              "      <th></th>\n",
              "      <th>Produto</th>\n",
              "      <th>Categoria do Produto</th>\n",
              "      <th>Preço</th>\n",
              "      <th>Frete</th>\n",
              "      <th>Data da Compra</th>\n",
              "      <th>Vendedor</th>\n",
              "      <th>Local da compra</th>\n",
              "      <th>Avaliação da compra</th>\n",
              "      <th>Tipo de pagamento</th>\n",
              "      <th>Quantidade de parcelas</th>\n",
              "      <th>lat</th>\n",
              "      <th>lon</th>\n",
              "    </tr>\n",
              "  </thead>\n",
              "  <tbody>\n",
              "    <tr>\n",
              "      <th>0</th>\n",
              "      <td>Assistente virtual</td>\n",
              "      <td>eletronicos</td>\n",
              "      <td>219.08</td>\n",
              "      <td>9.249790</td>\n",
              "      <td>16/01/2021</td>\n",
              "      <td>Pedro Gomes</td>\n",
              "      <td>SP</td>\n",
              "      <td>4</td>\n",
              "      <td>cartao_credito</td>\n",
              "      <td>8</td>\n",
              "      <td>-22.19</td>\n",
              "      <td>-48.79</td>\n",
              "    </tr>\n",
              "    <tr>\n",
              "      <th>1</th>\n",
              "      <td>Mesa de jantar</td>\n",
              "      <td>moveis</td>\n",
              "      <td>256.35</td>\n",
              "      <td>11.234305</td>\n",
              "      <td>18/05/2022</td>\n",
              "      <td>Beatriz Moraes</td>\n",
              "      <td>RJ</td>\n",
              "      <td>1</td>\n",
              "      <td>cartao_credito</td>\n",
              "      <td>4</td>\n",
              "      <td>-22.25</td>\n",
              "      <td>-42.66</td>\n",
              "    </tr>\n",
              "    <tr>\n",
              "      <th>2</th>\n",
              "      <td>Jogo de tabuleiro</td>\n",
              "      <td>brinquedos</td>\n",
              "      <td>279.51</td>\n",
              "      <td>21.262681</td>\n",
              "      <td>15/03/2021</td>\n",
              "      <td>João Souza</td>\n",
              "      <td>DF</td>\n",
              "      <td>1</td>\n",
              "      <td>cartao_credito</td>\n",
              "      <td>1</td>\n",
              "      <td>-15.83</td>\n",
              "      <td>-47.86</td>\n",
              "    </tr>\n",
              "    <tr>\n",
              "      <th>3</th>\n",
              "      <td>Micro-ondas</td>\n",
              "      <td>eletrodomesticos</td>\n",
              "      <td>1009.99</td>\n",
              "      <td>54.667344</td>\n",
              "      <td>03/05/2022</td>\n",
              "      <td>João Souza</td>\n",
              "      <td>RS</td>\n",
              "      <td>4</td>\n",
              "      <td>boleto</td>\n",
              "      <td>1</td>\n",
              "      <td>-30.17</td>\n",
              "      <td>-53.50</td>\n",
              "    </tr>\n",
              "    <tr>\n",
              "      <th>4</th>\n",
              "      <td>Cadeira de escritório</td>\n",
              "      <td>moveis</td>\n",
              "      <td>446.99</td>\n",
              "      <td>26.964689</td>\n",
              "      <td>07/11/2020</td>\n",
              "      <td>Larissa Alves</td>\n",
              "      <td>MG</td>\n",
              "      <td>5</td>\n",
              "      <td>boleto</td>\n",
              "      <td>1</td>\n",
              "      <td>-18.10</td>\n",
              "      <td>-44.38</td>\n",
              "    </tr>\n",
              "  </tbody>\n",
              "</table>\n",
              "</div>\n",
              "    <div class=\"colab-df-buttons\">\n",
              "\n",
              "  <div class=\"colab-df-container\">\n",
              "    <button class=\"colab-df-convert\" onclick=\"convertToInteractive('df-85fc6e60-7c45-4f09-84d8-86f6a6709e17')\"\n",
              "            title=\"Convert this dataframe to an interactive table.\"\n",
              "            style=\"display:none;\">\n",
              "\n",
              "  <svg xmlns=\"http://www.w3.org/2000/svg\" height=\"24px\" viewBox=\"0 -960 960 960\">\n",
              "    <path d=\"M120-120v-720h720v720H120Zm60-500h600v-160H180v160Zm220 220h160v-160H400v160Zm0 220h160v-160H400v160ZM180-400h160v-160H180v160Zm440 0h160v-160H620v160ZM180-180h160v-160H180v160Zm440 0h160v-160H620v160Z\"/>\n",
              "  </svg>\n",
              "    </button>\n",
              "\n",
              "  <style>\n",
              "    .colab-df-container {\n",
              "      display:flex;\n",
              "      gap: 12px;\n",
              "    }\n",
              "\n",
              "    .colab-df-convert {\n",
              "      background-color: #E8F0FE;\n",
              "      border: none;\n",
              "      border-radius: 50%;\n",
              "      cursor: pointer;\n",
              "      display: none;\n",
              "      fill: #1967D2;\n",
              "      height: 32px;\n",
              "      padding: 0 0 0 0;\n",
              "      width: 32px;\n",
              "    }\n",
              "\n",
              "    .colab-df-convert:hover {\n",
              "      background-color: #E2EBFA;\n",
              "      box-shadow: 0px 1px 2px rgba(60, 64, 67, 0.3), 0px 1px 3px 1px rgba(60, 64, 67, 0.15);\n",
              "      fill: #174EA6;\n",
              "    }\n",
              "\n",
              "    .colab-df-buttons div {\n",
              "      margin-bottom: 4px;\n",
              "    }\n",
              "\n",
              "    [theme=dark] .colab-df-convert {\n",
              "      background-color: #3B4455;\n",
              "      fill: #D2E3FC;\n",
              "    }\n",
              "\n",
              "    [theme=dark] .colab-df-convert:hover {\n",
              "      background-color: #434B5C;\n",
              "      box-shadow: 0px 1px 3px 1px rgba(0, 0, 0, 0.15);\n",
              "      filter: drop-shadow(0px 1px 2px rgba(0, 0, 0, 0.3));\n",
              "      fill: #FFFFFF;\n",
              "    }\n",
              "  </style>\n",
              "\n",
              "    <script>\n",
              "      const buttonEl =\n",
              "        document.querySelector('#df-85fc6e60-7c45-4f09-84d8-86f6a6709e17 button.colab-df-convert');\n",
              "      buttonEl.style.display =\n",
              "        google.colab.kernel.accessAllowed ? 'block' : 'none';\n",
              "\n",
              "      async function convertToInteractive(key) {\n",
              "        const element = document.querySelector('#df-85fc6e60-7c45-4f09-84d8-86f6a6709e17');\n",
              "        const dataTable =\n",
              "          await google.colab.kernel.invokeFunction('convertToInteractive',\n",
              "                                                    [key], {});\n",
              "        if (!dataTable) return;\n",
              "\n",
              "        const docLinkHtml = 'Like what you see? Visit the ' +\n",
              "          '<a target=\"_blank\" href=https://colab.research.google.com/notebooks/data_table.ipynb>data table notebook</a>'\n",
              "          + ' to learn more about interactive tables.';\n",
              "        element.innerHTML = '';\n",
              "        dataTable['output_type'] = 'display_data';\n",
              "        await google.colab.output.renderOutput(dataTable, element);\n",
              "        const docLink = document.createElement('div');\n",
              "        docLink.innerHTML = docLinkHtml;\n",
              "        element.appendChild(docLink);\n",
              "      }\n",
              "    </script>\n",
              "  </div>\n",
              "\n",
              "\n",
              "    <div id=\"df-97a3b4ad-d9f4-4afe-9ddf-609aa9a83fb0\">\n",
              "      <button class=\"colab-df-quickchart\" onclick=\"quickchart('df-97a3b4ad-d9f4-4afe-9ddf-609aa9a83fb0')\"\n",
              "                title=\"Suggest charts\"\n",
              "                style=\"display:none;\">\n",
              "\n",
              "<svg xmlns=\"http://www.w3.org/2000/svg\" height=\"24px\"viewBox=\"0 0 24 24\"\n",
              "     width=\"24px\">\n",
              "    <g>\n",
              "        <path d=\"M19 3H5c-1.1 0-2 .9-2 2v14c0 1.1.9 2 2 2h14c1.1 0 2-.9 2-2V5c0-1.1-.9-2-2-2zM9 17H7v-7h2v7zm4 0h-2V7h2v10zm4 0h-2v-4h2v4z\"/>\n",
              "    </g>\n",
              "</svg>\n",
              "      </button>\n",
              "\n",
              "<style>\n",
              "  .colab-df-quickchart {\n",
              "      --bg-color: #E8F0FE;\n",
              "      --fill-color: #1967D2;\n",
              "      --hover-bg-color: #E2EBFA;\n",
              "      --hover-fill-color: #174EA6;\n",
              "      --disabled-fill-color: #AAA;\n",
              "      --disabled-bg-color: #DDD;\n",
              "  }\n",
              "\n",
              "  [theme=dark] .colab-df-quickchart {\n",
              "      --bg-color: #3B4455;\n",
              "      --fill-color: #D2E3FC;\n",
              "      --hover-bg-color: #434B5C;\n",
              "      --hover-fill-color: #FFFFFF;\n",
              "      --disabled-bg-color: #3B4455;\n",
              "      --disabled-fill-color: #666;\n",
              "  }\n",
              "\n",
              "  .colab-df-quickchart {\n",
              "    background-color: var(--bg-color);\n",
              "    border: none;\n",
              "    border-radius: 50%;\n",
              "    cursor: pointer;\n",
              "    display: none;\n",
              "    fill: var(--fill-color);\n",
              "    height: 32px;\n",
              "    padding: 0;\n",
              "    width: 32px;\n",
              "  }\n",
              "\n",
              "  .colab-df-quickchart:hover {\n",
              "    background-color: var(--hover-bg-color);\n",
              "    box-shadow: 0 1px 2px rgba(60, 64, 67, 0.3), 0 1px 3px 1px rgba(60, 64, 67, 0.15);\n",
              "    fill: var(--button-hover-fill-color);\n",
              "  }\n",
              "\n",
              "  .colab-df-quickchart-complete:disabled,\n",
              "  .colab-df-quickchart-complete:disabled:hover {\n",
              "    background-color: var(--disabled-bg-color);\n",
              "    fill: var(--disabled-fill-color);\n",
              "    box-shadow: none;\n",
              "  }\n",
              "\n",
              "  .colab-df-spinner {\n",
              "    border: 2px solid var(--fill-color);\n",
              "    border-color: transparent;\n",
              "    border-bottom-color: var(--fill-color);\n",
              "    animation:\n",
              "      spin 1s steps(1) infinite;\n",
              "  }\n",
              "\n",
              "  @keyframes spin {\n",
              "    0% {\n",
              "      border-color: transparent;\n",
              "      border-bottom-color: var(--fill-color);\n",
              "      border-left-color: var(--fill-color);\n",
              "    }\n",
              "    20% {\n",
              "      border-color: transparent;\n",
              "      border-left-color: var(--fill-color);\n",
              "      border-top-color: var(--fill-color);\n",
              "    }\n",
              "    30% {\n",
              "      border-color: transparent;\n",
              "      border-left-color: var(--fill-color);\n",
              "      border-top-color: var(--fill-color);\n",
              "      border-right-color: var(--fill-color);\n",
              "    }\n",
              "    40% {\n",
              "      border-color: transparent;\n",
              "      border-right-color: var(--fill-color);\n",
              "      border-top-color: var(--fill-color);\n",
              "    }\n",
              "    60% {\n",
              "      border-color: transparent;\n",
              "      border-right-color: var(--fill-color);\n",
              "    }\n",
              "    80% {\n",
              "      border-color: transparent;\n",
              "      border-right-color: var(--fill-color);\n",
              "      border-bottom-color: var(--fill-color);\n",
              "    }\n",
              "    90% {\n",
              "      border-color: transparent;\n",
              "      border-bottom-color: var(--fill-color);\n",
              "    }\n",
              "  }\n",
              "</style>\n",
              "\n",
              "      <script>\n",
              "        async function quickchart(key) {\n",
              "          const quickchartButtonEl =\n",
              "            document.querySelector('#' + key + ' button');\n",
              "          quickchartButtonEl.disabled = true;  // To prevent multiple clicks.\n",
              "          quickchartButtonEl.classList.add('colab-df-spinner');\n",
              "          try {\n",
              "            const charts = await google.colab.kernel.invokeFunction(\n",
              "                'suggestCharts', [key], {});\n",
              "          } catch (error) {\n",
              "            console.error('Error during call to suggestCharts:', error);\n",
              "          }\n",
              "          quickchartButtonEl.classList.remove('colab-df-spinner');\n",
              "          quickchartButtonEl.classList.add('colab-df-quickchart-complete');\n",
              "        }\n",
              "        (() => {\n",
              "          let quickchartButtonEl =\n",
              "            document.querySelector('#df-97a3b4ad-d9f4-4afe-9ddf-609aa9a83fb0 button');\n",
              "          quickchartButtonEl.style.display =\n",
              "            google.colab.kernel.accessAllowed ? 'block' : 'none';\n",
              "        })();\n",
              "      </script>\n",
              "    </div>\n",
              "\n",
              "    </div>\n",
              "  </div>\n"
            ],
            "application/vnd.google.colaboratory.intrinsic+json": {
              "type": "dataframe",
              "variable_name": "loja",
              "summary": "{\n  \"name\": \"loja\",\n  \"rows\": 2359,\n  \"fields\": [\n    {\n      \"column\": \"Produto\",\n      \"properties\": {\n        \"dtype\": \"category\",\n        \"num_unique_values\": 51,\n        \"samples\": [\n          \"Viol\\u00e3o\",\n          \"Bola de basquete\",\n          \"Smartwatch\"\n        ],\n        \"semantic_type\": \"\",\n        \"description\": \"\"\n      }\n    },\n    {\n      \"column\": \"Categoria do Produto\",\n      \"properties\": {\n        \"dtype\": \"category\",\n        \"num_unique_values\": 8,\n        \"samples\": [\n          \"moveis\",\n          \"esporte e lazer\",\n          \"eletronicos\"\n        ],\n        \"semantic_type\": \"\",\n        \"description\": \"\"\n      }\n    },\n    {\n      \"column\": \"Pre\\u00e7o\",\n      \"properties\": {\n        \"dtype\": \"number\",\n        \"std\": 819.5827782539145,\n        \"min\": 10.07,\n        \"max\": 3969.38,\n        \"num_unique_values\": 2315,\n        \"samples\": [\n          446.11,\n          107.31,\n          65.86\n        ],\n        \"semantic_type\": \"\",\n        \"description\": \"\"\n      }\n    },\n    {\n      \"column\": \"Frete\",\n      \"properties\": {\n        \"dtype\": \"number\",\n        \"std\": 43.814183327408166,\n        \"min\": 0.0,\n        \"max\": 214.3770604781,\n        \"num_unique_values\": 2149,\n        \"samples\": [\n          83.815279607,\n          16.069664669,\n          14.0344876928\n        ],\n        \"semantic_type\": \"\",\n        \"description\": \"\"\n      }\n    },\n    {\n      \"column\": \"Data da Compra\",\n      \"properties\": {\n        \"dtype\": \"object\",\n        \"num_unique_values\": 1018,\n        \"samples\": [\n          \"15/09/2022\",\n          \"03/06/2020\",\n          \"06/11/2021\"\n        ],\n        \"semantic_type\": \"\",\n        \"description\": \"\"\n      }\n    },\n    {\n      \"column\": \"Vendedor\",\n      \"properties\": {\n        \"dtype\": \"category\",\n        \"num_unique_values\": 14,\n        \"samples\": [\n          \"Juliana Costa\",\n          \"Mariana Ferreira\",\n          \"Pedro Gomes\"\n        ],\n        \"semantic_type\": \"\",\n        \"description\": \"\"\n      }\n    },\n    {\n      \"column\": \"Local da compra\",\n      \"properties\": {\n        \"dtype\": \"category\",\n        \"num_unique_values\": 26,\n        \"samples\": [\n          \"TO\",\n          \"RN\",\n          \"SP\"\n        ],\n        \"semantic_type\": \"\",\n        \"description\": \"\"\n      }\n    },\n    {\n      \"column\": \"Avalia\\u00e7\\u00e3o da compra\",\n      \"properties\": {\n        \"dtype\": \"number\",\n        \"std\": 1,\n        \"min\": 1,\n        \"max\": 5,\n        \"num_unique_values\": 5,\n        \"samples\": [\n          1,\n          2,\n          5\n        ],\n        \"semantic_type\": \"\",\n        \"description\": \"\"\n      }\n    },\n    {\n      \"column\": \"Tipo de pagamento\",\n      \"properties\": {\n        \"dtype\": \"category\",\n        \"num_unique_values\": 4,\n        \"samples\": [\n          \"boleto\",\n          \"cartao_debito\",\n          \"cartao_credito\"\n        ],\n        \"semantic_type\": \"\",\n        \"description\": \"\"\n      }\n    },\n    {\n      \"column\": \"Quantidade de parcelas\",\n      \"properties\": {\n        \"dtype\": \"number\",\n        \"std\": 2,\n        \"min\": 1,\n        \"max\": 24,\n        \"num_unique_values\": 15,\n        \"samples\": [\n          7,\n          14,\n          8\n        ],\n        \"semantic_type\": \"\",\n        \"description\": \"\"\n      }\n    },\n    {\n      \"column\": \"lat\",\n      \"properties\": {\n        \"dtype\": \"number\",\n        \"std\": 5.372399916530833,\n        \"min\": -30.17,\n        \"max\": 1.41,\n        \"num_unique_values\": 26,\n        \"samples\": [\n          -9.46,\n          -5.81,\n          -22.19\n        ],\n        \"semantic_type\": \"\",\n        \"description\": \"\"\n      }\n    },\n    {\n      \"column\": \"lon\",\n      \"properties\": {\n        \"dtype\": \"number\",\n        \"std\": 4.183180020544179,\n        \"min\": -70.55,\n        \"max\": -36.59,\n        \"num_unique_values\": 26,\n        \"samples\": [\n          -48.26,\n          -36.59,\n          -48.79\n        ],\n        \"semantic_type\": \"\",\n        \"description\": \"\"\n      }\n    }\n  ]\n}"
            }
          },
          "metadata": {},
          "execution_count": 16
        }
      ],
      "source": [
        "import pandas as pd\n",
        "import matplotlib.pyplot as plt\n",
        "\n",
        "\n",
        "url = \"https://raw.githubusercontent.com/alura-es-cursos/challenge1-data-science/refs/heads/main/base-de-dados-challenge-1/loja_1.csv\"\n",
        "url2 = \"https://raw.githubusercontent.com/alura-es-cursos/challenge1-data-science/refs/heads/main/base-de-dados-challenge-1/loja_2.csv\"\n",
        "url3 = \"https://raw.githubusercontent.com/alura-es-cursos/challenge1-data-science/refs/heads/main/base-de-dados-challenge-1/loja_3.csv\"\n",
        "url4 = \"https://raw.githubusercontent.com/alura-es-cursos/challenge1-data-science/refs/heads/main/base-de-dados-challenge-1/loja_4.csv\"\n",
        "\n",
        "loja = pd.read_csv(url)\n",
        "loja2 = pd.read_csv(url2)\n",
        "loja3 = pd.read_csv(url3)\n",
        "loja4 = pd.read_csv(url4)\n",
        "\n",
        "loja.head()"
      ]
    },
    {
      "cell_type": "markdown",
      "source": [
        "#1. Análise do faturamento\n"
      ],
      "metadata": {
        "id": "X62IW3KFUIYm"
      }
    },
    {
      "cell_type": "markdown",
      "source": [
        "Nesta primeira análise, você deve calcular o faturamento total de cada loja. Somando os valores da coluna Preço de cada loja para estimar o faturamento."
      ],
      "metadata": {
        "id": "6-9sXZLitRUW"
      }
    },
    {
      "cell_type": "code",
      "source": [
        "total1 = loja['Preço'].sum()\n",
        "print(f'Faturamento da 1° loja: {total1}')\n",
        "\n",
        "total2 = loja2['Preço'].sum()\n",
        "print(f'Faturamento da 2° loja: {total2}')\n",
        "\n",
        "total3 = loja3['Preço'].sum()\n",
        "print(f'Faturamento da 3° loja: {total3}')\n",
        "\n",
        "total4 = loja4['Preço'].sum()\n",
        "print(f'Faturamento da 4° loja: {total4}')"
      ],
      "metadata": {
        "id": "xykobSftV64I",
        "colab": {
          "base_uri": "https://localhost:8080/"
        },
        "outputId": "61ed287a-aca4-4e36-8601-8172734ac8a4"
      },
      "execution_count": null,
      "outputs": [
        {
          "output_type": "stream",
          "name": "stdout",
          "text": [
            "Faturamento da 1° loja: 1534509.12\n",
            "Faturamento da 2° loja: 1488459.06\n",
            "Faturamento da 3° loja: 1464025.03\n",
            "Faturamento da 4° loja: 1384497.58\n"
          ]
        }
      ]
    },
    {
      "cell_type": "code",
      "source": [],
      "metadata": {
        "id": "KDyr8E71V3m-"
      },
      "execution_count": null,
      "outputs": []
    },
    {
      "cell_type": "code",
      "source": [],
      "metadata": {
        "id": "habvF681iSzy"
      },
      "execution_count": null,
      "outputs": []
    },
    {
      "cell_type": "markdown",
      "source": [
        "# 2. Vendas por Categoria\n"
      ],
      "metadata": {
        "id": "2V_vcAPzWZmR"
      }
    },
    {
      "cell_type": "markdown",
      "source": [
        "Neste passo, deve calcular a quantidade de produtos vendidos por categoria em cada loja. A ideia é agrupar os dados por categoria e contar o número de vendas de cada tipo, mostrando as categoria mais populares de cada loja"
      ],
      "metadata": {
        "id": "XDSVwo0siNgd"
      }
    },
    {
      "cell_type": "code",
      "source": [
        "quantidade_por_categoria = loja[\"Categoria do Produto\"].value_counts()\n",
        "\n",
        "print('Quantidade Vendida Por Categoria Na 1° Loja')\n",
        "for categoria, quantidade in quantidade_por_categoria.items():\n",
        "    print(f\"{categoria}: {quantidade}\")\n",
        "\n",
        "\n",
        "print('\\nQuantidade Vendida Por Categoria Na 2° Loja')\n",
        "quantidade_por_categoria2 = loja2[\"Categoria do Produto\"].value_counts()\n",
        "\n",
        "for categoria, quantidade in quantidade_por_categoria2.items():\n",
        "    print(f\"{categoria}: {quantidade}\")\n",
        "\n",
        "\n",
        "print('\\nQuantidade Vendida Por Categoria Na 3° Loja')\n",
        "quantidade_por_categoria3 = loja3[\"Categoria do Produto\"].value_counts()\n",
        "\n",
        "for categoria, quantidade in quantidade_por_categoria3.items():\n",
        "    print(f\"{categoria}: {quantidade}\")\n",
        "\n",
        "\n",
        "\n",
        "print('\\nQuantidade Vendida Por Categoria Na 4° Loja')\n",
        "quantidade_por_categoria4 = loja4[\"Categoria do Produto\"].value_counts()\n",
        "\n",
        "for categoria, quantidade in quantidade_por_categoria4.items():\n",
        "    print(f\"{categoria}: {quantidade}\")"
      ],
      "metadata": {
        "id": "yZR6cOjXYSk1",
        "colab": {
          "base_uri": "https://localhost:8080/"
        },
        "outputId": "fd964603-6b2f-4983-c557-523393373ad5"
      },
      "execution_count": null,
      "outputs": [
        {
          "output_type": "stream",
          "name": "stdout",
          "text": [
            "Quantidade Vendida Por Categoria Na 1° Loja\n",
            "moveis: 465\n",
            "eletronicos: 448\n",
            "brinquedos: 324\n",
            "eletrodomesticos: 312\n",
            "esporte e lazer: 284\n",
            "instrumentos musicais: 182\n",
            "livros: 173\n",
            "utilidades domesticas: 171\n",
            "\n",
            "Quantidade Vendida Por Categoria Na 2° Loja\n",
            "moveis: 442\n",
            "eletronicos: 422\n",
            "brinquedos: 313\n",
            "eletrodomesticos: 305\n",
            "esporte e lazer: 275\n",
            "instrumentos musicais: 224\n",
            "livros: 197\n",
            "utilidades domesticas: 181\n",
            "\n",
            "Quantidade Vendida Por Categoria Na 3° Loja\n",
            "moveis: 499\n",
            "eletronicos: 451\n",
            "brinquedos: 315\n",
            "eletrodomesticos: 278\n",
            "esporte e lazer: 277\n",
            "livros: 185\n",
            "instrumentos musicais: 177\n",
            "utilidades domesticas: 177\n",
            "\n",
            "Quantidade Vendida Por Categoria Na 4° Loja\n",
            "moveis: 480\n",
            "eletronicos: 451\n",
            "brinquedos: 338\n",
            "esporte e lazer: 277\n",
            "eletrodomesticos: 254\n",
            "utilidades domesticas: 201\n",
            "livros: 187\n",
            "instrumentos musicais: 170\n"
          ]
        }
      ]
    },
    {
      "cell_type": "markdown",
      "source": [
        "# 3. Média de Avaliação das Lojas"
      ],
      "metadata": {
        "id": "Rq6tU_xSY3jk"
      }
    },
    {
      "cell_type": "markdown",
      "source": [
        "Neste passo, vamos calcular a média das avaliações dos clientes para cada loja. O objetivo é entender a satisfação dos clientes com os produtos vendidos."
      ],
      "metadata": {
        "id": "fTbe_PjtiYYA"
      }
    },
    {
      "cell_type": "code",
      "source": [
        "soma_avaliacao = loja['Avaliação da compra'].sum()\n",
        "\n",
        "n_avaliacao = loja['Avaliação da compra'].count()\n",
        "\n",
        "media_avaliacao = soma_avaliacao / n_avaliacao\n",
        "print(f'Média Das Avaliações Da 1° Loja: {media_avaliacao.round(2)}')\n",
        "\n",
        "\n",
        "\n",
        "soma_avaliacao2 = loja2['Avaliação da compra'].sum()\n",
        "\n",
        "n_avaliacao2 = loja2['Avaliação da compra'].count()\n",
        "\n",
        "media_avaliacao2 = soma_avaliacao2 / n_avaliacao2\n",
        "print(f'Média Das Avaliações Da 2° Loja: {media_avaliacao2.round(2)}')\n",
        "\n",
        "\n",
        "\n",
        "soma_avaliacao3 = loja3['Avaliação da compra'].sum()\n",
        "\n",
        "n_avaliacao3 = loja3['Avaliação da compra'].count()\n",
        "\n",
        "media_avaliacao3 = soma_avaliacao3 / n_avaliacao3\n",
        "print(f'Média Das Avaliações Da 3° Loja: {media_avaliacao3.round(2)}')\n",
        "\n",
        "\n",
        "\n",
        "soma_avaliacao4 = loja4['Avaliação da compra'].sum()\n",
        "\n",
        "n_avaliacao4 = loja4['Avaliação da compra'].count()\n",
        "\n",
        "media_avaliacao4 = soma_avaliacao4 / n_avaliacao4\n",
        "print(f'Média Das Avaliações Da 4° Loja: {media_avaliacao4.round(2)}')\n"
      ],
      "metadata": {
        "id": "bh3jjjJwY5MU",
        "colab": {
          "base_uri": "https://localhost:8080/"
        },
        "outputId": "227ea25a-1a7f-4ecd-a8c9-dc90c9fb4136"
      },
      "execution_count": null,
      "outputs": [
        {
          "output_type": "stream",
          "name": "stdout",
          "text": [
            "Média Das Avaliações Da 1° Loja: 3.98\n",
            "Média Das Avaliações Da 2° Loja: 4.04\n",
            "Média Das Avaliações Da 3° Loja: 4.05\n",
            "Média Das Avaliações Da 4° Loja: 4.0\n"
          ]
        }
      ]
    },
    {
      "cell_type": "code",
      "source": [],
      "metadata": {
        "id": "I0KkjPoTY88F"
      },
      "execution_count": null,
      "outputs": []
    },
    {
      "cell_type": "markdown",
      "source": [],
      "metadata": {
        "id": "bsRga37exLUX"
      }
    },
    {
      "cell_type": "markdown",
      "source": [
        "# 4. Produtos Mais e Menos Vendidos"
      ],
      "metadata": {
        "id": "DmNp1KPBZCm-"
      }
    },
    {
      "cell_type": "markdown",
      "source": [
        "Neste passo, deve identificar quais produtos foram os mais vendidos e os menos vendidos em cada loja.  Ao final, visualize os resultados de forma que fique claro quais produtos se destacaram nas vendas de cada loja."
      ],
      "metadata": {
        "id": "lzA-CsdrxC44"
      }
    },
    {
      "cell_type": "code",
      "source": [
        "quantidade_por_produto = loja[\"Produto\"].value_counts()\n",
        "\n",
        "print('Top 3 Produtos Mais Vendidos Da 1° Loja:')\n",
        "top3_produtos1 = quantidade_por_produto.head(3)\n",
        "\n",
        "for produto, quantidade in top3_produtos1.items():\n",
        "    print(f\"{produto}: {quantidade} vendidos\")\n",
        "\n",
        "print('\\nTop 3 Produtos Menos Vendidos Da 1° loja:')\n",
        "top_menos3_produtos1 = quantidade_por_produto.tail(3)\n",
        "\n",
        "for produto, quantidade in top_menos3_produtos1.items():\n",
        "    print(f\"{produto}: {quantidade} vendidos\")\n",
        "\n",
        "\n",
        "quantidade_por_produto2 = loja2[\"Produto\"].value_counts()\n",
        "\n",
        "print('\\nTop 3 Produtos Mais Vendidos Da 2° Loja:')\n",
        "top3_produtos2 = quantidade_por_produto2.head(3)\n",
        "\n",
        "for produto, quantidade in top3_produtos2.items():\n",
        "    print(f\"{produto}: {quantidade} vendidos\")\n",
        "\n",
        "print('\\nTop 3 Produtos Menos Vendidos Da 2° loja:')\n",
        "top_menos3_produtos2 = quantidade_por_produto2.tail(3)\n",
        "\n",
        "for produto, quantidade in top_menos3_produtos2.items():\n",
        "    print(f\"{produto}: {quantidade} vendidos\")\n",
        "\n",
        "\n",
        "quantidade_por_produto3 = loja3[\"Produto\"].value_counts()\n",
        "\n",
        "print('\\nTop 3 Produtos Mais Vendidos Da 3° Loja:')\n",
        "top3_produtos3 = quantidade_por_produto3.head(3)\n",
        "\n",
        "for produto, quantidade in top3_produtos3.items():\n",
        "    print(f\"{produto}: {quantidade} vendidos\")\n",
        "\n",
        "print('\\nTop 3 Produtos Menos Vendidos Da 3° loja:')\n",
        "top_menos3_produtos3 = quantidade_por_produto3.tail(3)\n",
        "\n",
        "for produto, quantidade in top_menos3_produtos3.items():\n",
        "    print(f\"{produto}: {quantidade} vendidos\")\n",
        "\n",
        "\n",
        "\n",
        "quantidade_por_produto4 = loja4[\"Produto\"].value_counts()\n",
        "\n",
        "print('\\nTop 3 Produtos Mais Vendidos Da 4° Loja:')\n",
        "top3_produtos4 = quantidade_por_produto4.head(3)\n",
        "\n",
        "for produto, quantidade in top3_produtos4.items():\n",
        "    print(f\"{produto}: {quantidade} vendidos\")\n",
        "\n",
        "print('\\nTop 3 Produtos Menos Vendidos Da 4° loja:')\n",
        "top_menos3_produtos4 = quantidade_por_produto4.tail(3)\n",
        "\n",
        "for produto, quantidade in top_menos3_produtos4.items():\n",
        "    print(f\"{produto}: {quantidade} vendidos\")\n",
        "\n",
        "\n"
      ],
      "metadata": {
        "id": "qoyjqijQZHfF",
        "colab": {
          "base_uri": "https://localhost:8080/"
        },
        "outputId": "e1350979-e9aa-4637-8b6a-d91039509e22"
      },
      "execution_count": null,
      "outputs": [
        {
          "output_type": "stream",
          "name": "stdout",
          "text": [
            "Top 3 Produtos Mais Vendidos Da 1° Loja:\n",
            "Micro-ondas: 60 vendidos\n",
            "TV Led UHD 4K: 60 vendidos\n",
            "Guarda roupas: 60 vendidos\n",
            "\n",
            "Top 3 Produtos Menos Vendidos Da 1° loja:\n",
            "Panela de pressão: 35 vendidos\n",
            "Headset: 33 vendidos\n",
            "Celular ABXY: 33 vendidos\n",
            "\n",
            "Top 3 Produtos Mais Vendidos Da 2° Loja:\n",
            "Iniciando em programação: 65 vendidos\n",
            "Micro-ondas: 62 vendidos\n",
            "Bateria: 61 vendidos\n",
            "\n",
            "Top 3 Produtos Menos Vendidos Da 2° loja:\n",
            "Mesa de jantar: 34 vendidos\n",
            "Impressora: 34 vendidos\n",
            "Jogo de tabuleiro: 32 vendidos\n",
            "\n",
            "Top 3 Produtos Mais Vendidos Da 3° Loja:\n",
            "Kit banquetas: 57 vendidos\n",
            "Mesa de jantar: 56 vendidos\n",
            "Cama king: 56 vendidos\n",
            "\n",
            "Top 3 Produtos Menos Vendidos Da 3° loja:\n",
            "Mochila: 36 vendidos\n",
            "Micro-ondas: 36 vendidos\n",
            "Blocos de montar: 35 vendidos\n",
            "\n",
            "Top 3 Produtos Mais Vendidos Da 4° Loja:\n",
            "Cama box: 62 vendidos\n",
            "Faqueiro: 59 vendidos\n",
            "Dashboards com Power BI: 56 vendidos\n",
            "\n",
            "Top 3 Produtos Menos Vendidos Da 4° loja:\n",
            "Violão: 37 vendidos\n",
            "Guarda roupas: 34 vendidos\n",
            "Guitarra: 33 vendidos\n"
          ]
        }
      ]
    },
    {
      "cell_type": "code",
      "source": [],
      "metadata": {
        "id": "0Sw3sd4IZIGW"
      },
      "execution_count": null,
      "outputs": []
    },
    {
      "cell_type": "markdown",
      "source": [
        "# 5. Frete Médio por Loja\n"
      ],
      "metadata": {
        "id": "Fl0cGi3bZKqU"
      }
    },
    {
      "cell_type": "markdown",
      "source": [
        "Neste passo, vamos calcular o custo médio de frete para cada loja. O objetivo é entender quanto, em média, está sendo gasto com frete para cada uma das lojas."
      ],
      "metadata": {
        "id": "gLYgcDwuxdF_"
      }
    },
    {
      "cell_type": "code",
      "source": [
        "soma_frete = loja['Frete'].sum()\n",
        "n_frete = loja['Frete'].count()\n",
        "media_frete = soma_frete / n_frete\n",
        "print(f'Média De Frete Da 1° Loja: {media_frete.round(2)}')\n",
        "\n",
        "soma_frete2 = loja2['Frete'].sum()\n",
        "n_frete2 = loja2['Frete'].count()\n",
        "media_frete2 = soma_frete2 / n_frete2\n",
        "print(f'Média De Frete Da 2° Loja: {media_frete2.round(2)}')\n",
        "\n",
        "soma_frete3 = loja3['Frete'].sum()\n",
        "n_frete3 = loja3['Frete'].count()\n",
        "media_frete3 = soma_frete3 / n_frete3\n",
        "print(f'Média De Frete Da 3° Loja: {media_frete3.round(2)}')\n",
        "\n",
        "soma_frete4 = loja4['Frete'].sum()\n",
        "n_frete4 = loja4['Frete'].count()\n",
        "media_frete4 = soma_frete4 / n_frete4\n",
        "print(f'Média De Frete Da 4° Loja: {media_frete4.round(2)}')"
      ],
      "metadata": {
        "id": "S2JeaCykZNy9",
        "colab": {
          "base_uri": "https://localhost:8080/"
        },
        "outputId": "5a2ef815-7142-4e61-b10b-c26c9cf9b3fb"
      },
      "execution_count": null,
      "outputs": [
        {
          "output_type": "stream",
          "name": "stdout",
          "text": [
            "Média De Frete Da 1° Loja: 34.69\n",
            "Média De Frete Da 2° Loja: 33.62\n",
            "Média De Frete Da 3° Loja: 33.07\n",
            "Média De Frete Da 4° Loja: 31.28\n"
          ]
        }
      ]
    },
    {
      "cell_type": "code",
      "source": [],
      "metadata": {
        "id": "0tSdCie9ZQlt"
      },
      "execution_count": null,
      "outputs": []
    },
    {
      "cell_type": "code",
      "source": [],
      "metadata": {
        "id": "LLusvKfvXWlh"
      },
      "execution_count": null,
      "outputs": []
    },
    {
      "cell_type": "markdown",
      "source": [
        "#6. Análise Das Lojas\n"
      ],
      "metadata": {
        "id": "zD6uv2L-U7SV"
      }
    },
    {
      "cell_type": "markdown",
      "source": [
        "**A primeira loja possui o maior faturamento.**\n",
        "\n",
        "Faturamento da 1° loja: R$ 1.534.509,12\n",
        "\n",
        "Faturamento da 2° loja: R$ 1.488.459,06\n",
        "\n",
        "Faturamento da 3° loja: R$ 1.464.025,03\n",
        "\n",
        "Faturamento da 4° loja: R$ 1.384.497,58"
      ],
      "metadata": {
        "id": "5ILFMxmIVx1u"
      }
    },
    {
      "cell_type": "markdown",
      "source": [
        "**Setores Mais e Menos Polpulares**\n",
        "\n",
        "1° Loja:\n",
        "moveis: 465;\n",
        "eletronicos: 448;\n",
        "brinquedos: 324;\n",
        "eletrodomesticos: 312;\n",
        "esporte e lazer: 284;\n",
        "instrumentos musicais: 182;\n",
        "livros: 173;\n",
        "utilidades domesticas: 171.\n",
        "\n",
        "2° Loja:\n",
        "moveis: 442\n",
        "eletronicos: 422\n",
        "brinquedos: 313\n",
        "eletrodomesticos: 305\n",
        "esporte e lazer: 275\n",
        "instrumentos musicais: 224\n",
        "livros: 197\n",
        "utilidades domesticas: 181\n",
        "\n",
        "3° Loja:\n",
        "moveis: 499\n",
        "eletronicos: 451\n",
        "brinquedos: 315\n",
        "eletrodomesticos: 278\n",
        "esporte e lazer: 277\n",
        "livros: 185\n",
        "instrumentos musicais: 177\n",
        "utilidades domesticas: 177\n",
        "\n",
        "4° Loja:\n",
        "moveis: 480\n",
        "eletronicos: 451\n",
        "brinquedos: 338\n",
        "esporte e lazer: 277\n",
        "eletrodomesticos: 254\n",
        "utilidades domesticas: 201\n",
        "livros: 187\n",
        "instrumentos musicais: 170"
      ],
      "metadata": {
        "id": "xLrbOm1nXz4v"
      }
    },
    {
      "cell_type": "markdown",
      "source": [
        "**Média de Avaliações**\n",
        "\n",
        "1° Loja: 3.98\n",
        "\n",
        "2° Loja: 4.04\n",
        "\n",
        "3° Loja: 4.05\n",
        "\n",
        "4° Loja: 4.0"
      ],
      "metadata": {
        "id": "kYK58QlFZaV1"
      }
    },
    {
      "cell_type": "markdown",
      "source": [
        "**Mais Vendidos Da 1° Loja:**\n",
        "Micro-ondas: 60 vendidos\n",
        "TV Led UHD 4K: 60 vendidos\n",
        "Guarda roupas: 60 vendidos;\n",
        "**Menos Vendidos Da 1° loja:**\n",
        "Panela de pressão: 35 vendidos\n",
        "Headset: 33 vendidos\n",
        "Celular ABXY: 33 vendidos\n",
        "\n",
        "**Mais Vendidos Da 2° Loja:**\n",
        "Iniciando em programação: 65 vendidos\n",
        "Micro-ondas: 62 vendidos\n",
        "Bateria: 61 vendidos;\n",
        "**Menos Vendidos Da 2° loja:**\n",
        "Mesa de jantar: 34 vendidos\n",
        "Impressora: 34 vendidos\n",
        "Jogo de tabuleiro: 32 vendidos\n",
        "\n",
        "**Mais Vendidos Da 3° Loja:**\n",
        "Kit banquetas: 57 vendidos\n",
        "Mesa de jantar: 56 vendidos\n",
        "Cama king: 56 vendidos;\n",
        "**Menos Vendidos Da 3° loja:**\n",
        "Mochila: 36 vendidos\n",
        "Micro-ondas: 36 vendidos\n",
        "Blocos de montar: 35 vendidos\n",
        "\n",
        "**Mais Vendidos Da 4° Loja:**\n",
        "Cama box: 62 vendidos\n",
        "Faqueiro: 59 vendidos\n",
        "Dashboards com Power BI: 56 vendidos;\n",
        "**Menos Vendidos Da 4° loja:**\n",
        "Violão: 37 vendidos\n",
        "Guarda roupas: 34 vendidos\n",
        "Guitarra: 33 vendidos"
      ],
      "metadata": {
        "id": "maKStkPfZ2P-"
      }
    },
    {
      "cell_type": "markdown",
      "source": [
        "**Média de Frete**\n",
        "\n",
        "1° Loja: R$ 34,69\n",
        "\n",
        "2° Loja: R$ 33,62\n",
        "\n",
        "3° Loja: R$ 33,07\n",
        "\n",
        "4° Loja: R$ 31,28"
      ],
      "metadata": {
        "id": "TWepXLByboHP"
      }
    },
    {
      "cell_type": "markdown",
      "source": [
        "Loja 1 – Maior faturamento, mas tem o frete um pouco mais alto e avaliação mediana.\n",
        "\n",
        "Loja 2 –Possui um bom faturamento, ótima avaliação e frete um pouco menor do que a primeira loja.\n",
        "\n",
        "Loja 3 – Melhor média de avaliação, vendas estáveis e segundo menor frete. Porém, o faturamento ligeiramente abaixo das duas primeiras.\n",
        "\n",
        "Loja 4 – Menor faturamento, porém com o frete mais barato. Precisa de estratégias para aumentar vendas.\n",
        "\n",
        "**A Loja 4 é a mais indicada para uma possível venda, pois apresenta o menor faturamento, avaliação mediana e não se destaca em nenhum setor de vendas. Seu único ponto positivo é o frete mais baixo.**"
      ],
      "metadata": {
        "id": "m6H-zzk3eA9R"
      }
    },
    {
      "cell_type": "code",
      "source": [
        "faturamento_todas = [1534509.12, 1488459.06, 1464025.03, 1384497.58]\n",
        "\n",
        "\n",
        "df_faturamento = pd.DataFrame({\n",
        "    \"Loja\": [\"Loja 1\", \"Loja 2\", \"Loja 3\", \"Loja 4\"],\n",
        "    \"Faturamento\": faturamento_todas\n",
        "})\n",
        "\n",
        "df_faturamento.plot(x=\"Loja\", y=\"Faturamento\", kind=\"bar\", color=\"skyblue\", legend=False)\n",
        "plt.ylabel(\"Faturamento (R$)\")\n",
        "plt.title(\"Faturamento por Loja\")\n",
        "plt.grid(axis='y', linestyle='--', alpha=0.7)\n",
        "plt.show()"
      ],
      "metadata": {
        "colab": {
          "base_uri": "https://localhost:8080/"
        },
        "id": "XsnxEQMJhWnb",
        "outputId": "d572645e-8e07-45f0-a50c-25bf4fcb7824"
      },
      "execution_count": null,
      "outputs": [
        {
          "output_type": "display_data",
          "data": {
            "text/plain": [
              "<Figure size 640x480 with 1 Axes>"
            ],
            "image/png": "[encoded data removed]"
          },
          "metadata": {}
        }
      ]
    },
    {
      "cell_type": "code",
      "source": [
        "lojas = [\"Loja 1\", \"Loja 2\", \"Loja 3\", \"Loja 4\"]\n",
        "avaliacoes = [3.98, 4.04, 4.05, 4.00]\n",
        "\n",
        "plt.figure(figsize=(8,5))\n",
        "plt.scatter(lojas, avaliacoes, color=\"green\", s=100)\n",
        "plt.ylim(3.9, 4.1)\n",
        "plt.ylabel(\"Média de Avaliações\")\n",
        "plt.title(\"Avaliação Média por Loja\")\n",
        "plt.grid(axis='y', linestyle='--', alpha=0.7)\n",
        "\n",
        "for i, v in enumerate(avaliacoes):\n",
        "    plt.text(i, v + 0.005, str(v), ha='center', fontsize=10)\n",
        "\n",
        "plt.show()"
      ],
      "metadata": {
        "colab": {
          "base_uri": "https://localhost:8080/"
        },
        "id": "X-6KJseLkX1i",
        "outputId": "06aefc19-ffbc-467a-bc50-4c8d1c0f1f79"
      },
      "execution_count": null,
      "outputs": [
        {
          "output_type": "display_data",
          "data": {
            "text/plain": [
              "<Figure size 800x500 with 1 Axes>"
            ],
            "image/png": "[encoded data removed]"
          },
          "metadata": {}
        }
      ]
    },
    {
      "cell_type": "code",
      "source": [
        "frete = [34.69, 33.62, 33.07, 31.28]\n",
        "\n",
        "plt.figure(figsize=(8,5))\n",
        "plt.plot(lojas, frete, marker=\"o\", linestyle=\"-\", color=\"purple\")\n",
        "plt.ylabel(\"Frete Médio (R$)\")\n",
        "plt.title(\"Frete Médio por Loja\")\n",
        "plt.grid(axis='y', linestyle='--', alpha=0.7)\n",
        "\n",
        "for i, v in enumerate(frete):\n",
        "    plt.text(i, v + 0.1, str(v), ha='center', fontsize=10)\n",
        "\n",
        "plt.show()"
      ],
      "metadata": {
        "colab": {
          "base_uri": "https://localhost:8080/"
        },
        "id": "aWzQx1-Plnxo",
        "outputId": "f922c21c-be84-41f2-e2cc-1c07d35cd07c"
      },
      "execution_count": null,
      "outputs": [
        {
          "output_type": "display_data",
          "data": {
            "text/plain": [
              "<Figure size 800x500 with 1 Axes>"
            ],
            "image/png": "[encoded data removed]"
          },
          "metadata": {}
        }
      ]
    }
  ]
}